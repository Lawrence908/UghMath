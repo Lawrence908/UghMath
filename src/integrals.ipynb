{
 "cells": [
  {
   "cell_type": "markdown",
   "metadata": {},
   "source": [
    "# Integrals\n",
    "\n",
    "---\n",
    "\n",
    "1. Basic Integrals (Definite and Indefinite)\n",
    "Implement functionality to compute basic definite and indefinite integrals.\n",
    "Display results step-by-step (e.g., applying the power rule, constant rule, etc.)."
   ]
  },
  {
   "cell_type": "code",
   "execution_count": 3,
   "metadata": {},
   "outputs": [],
   "source": [
    "import scipy as sc\n",
    "import sympy as sp\n",
    "import numpy as np\n",
    "import matplotlib.pyplot as plt\n",
    "from scipy.integrate import quad\n",
    "from scipy.integrate import cumulative_trapezoid\n",
    "from sympy import symbols, integrate, pretty, simplify\n",
    "import latex"
   ]
  },
  {
   "cell_type": "markdown",
   "metadata": {},
   "source": [
    "- **Indefinite Integral**:\n",
    "   ```latex\n",
    "   \\int x^2 \\, dx\n",
    "   ```\n",
    "\n",
    "- **Definite Integral**:\n",
    "   ```latex\n",
    "   \\int_0^1 x^2 \\, dx\n",
    "   ```\n",
    "\n",
    "- **General Representation**:\n",
    "   ```latex\n",
    "   \\int f(x) \\, dx\n",
    "   ```"
   ]
  },
  {
   "cell_type": "code",
   "execution_count": 6,
   "metadata": {},
   "outputs": [
    {
     "data": {
      "image/png": "[encoded data removed]",
      "text/latex": [
       "$\\displaystyle \\frac{x^{3}}{3}$"
      ],
      "text/plain": [
       " 3\n",
       "x \n",
       "──\n",
       "3 "
      ]
     },
     "execution_count": 6,
     "metadata": {},
     "output_type": "execute_result"
    }
   ],
   "source": [
    "from sympy import symbols, integrate\n",
    "from sympy import init_printing\n",
    "init_printing()\n",
    "\n",
    "x = symbols('x')\n",
    "function = x**2\n",
    "integrate(function, x)"
   ]
  },
  {
   "cell_type": "markdown",
   "metadata": {},
   "source": [
    "# INTEGRALS\n",
    "\n",
    "### Framework Outline:\n",
    "\n",
    "1. **Input Handling**: The user will input an integral (either definite or indefinite) along with any additional details, such as integration limits for definite integrals.\n",
    "2. **Modular Functions for Different Integration Techniques**: You can implement different functions for integration types (basic, substitution, integration by parts, etc.).\n",
    "3. **Step-by-Step Breakdown**: Each function will solve a part of the integral and return both the step explanation and the intermediate result.\n",
    "4. **Display**: The steps will be displayed one at a time, either in the console or in a Jupyter notebook for better LaTeX formatting.\n",
    "\n",
    "---\n",
    "\n",
    "### Basic Structure\n",
    "\n",
    "#### 1. **Main Solver Function**:\n",
    "This will take in user input and route the integral to the appropriate technique for step-by-step solving.\n"
   ]
  },
  {
   "cell_type": "code",
   "execution_count": null,
   "metadata": {},
   "outputs": [],
   "source": [
    "from sympy import symbols, integrate, pretty\n",
    "\n",
    "# Define symbolic variable\n",
    "x = symbols('x')\n",
    "\n",
    "def solve_integral(expr, technique='basic', limits=None):\n",
    "    \"\"\"\n",
    "    Main function to solve an integral step-by-step.\n",
    "\n",
    "    Args:\n",
    "        expr: SymPy expression for the function to integrate.\n",
    "        technique: The technique to use ('basic', 'substitution', 'parts', etc.).\n",
    "        limits: Tuple of (lower_limit, upper_limit) for definite integrals.\n",
    "    \n",
    "    Returns:\n",
    "        steps: A list of steps (description + result) to display.\n",
    "    \"\"\"\n",
    "    steps = []\n",
    "    \n",
    "    # Route to the correct integration technique\n",
    "    if technique == 'basic':\n",
    "        steps += basic_integration(expr, limits)\n",
    "    elif technique == 'substitution':\n",
    "        steps += substitution_integration(expr, limits)\n",
    "    elif technique == 'parts':\n",
    "        steps += integration_by_parts(expr, limits)\n",
    "    \n",
    "    return steps"
   ]
  },
  {
   "cell_type": "markdown",
   "metadata": {},
   "source": [
    "#### 2. **Basic Integration Function**:\n",
    "This handles simple integrals (like polynomials) and provides a step-by-step breakdown."
   ]
  },
  {
   "cell_type": "code",
   "execution_count": null,
   "metadata": {},
   "outputs": [],
   "source": [
    "def basic_integration(expr, limits=None):\n",
    "    \"\"\"\n",
    "    Basic integration step-by-step process.\n",
    "\n",
    "    Args:\n",
    "        expr: SymPy expression to integrate.\n",
    "        limits: Tuple of (lower_limit, upper_limit) for definite integrals.\n",
    "\n",
    "    Returns:\n",
    "        steps: A list of steps describing the process.\n",
    "    \"\"\"\n",
    "    steps = []\n",
    "    \n",
    "    # Step 1: Describe the integral\n",
    "    steps.append(f\"Step 1: Recognize the integral to solve: {pretty(expr)}\")\n",
    "    \n",
    "    # Step 2: Apply the power rule (or basic rules)\n",
    "    integral_result = integrate(expr, x)\n",
    "    steps.append(f\"Step 2: Apply the basic rules of integration: {pretty(integral_result)}\")\n",
    "    \n",
    "    # Step 3: Evaluate definite integrals if limits are given\n",
    "    if limits:\n",
    "        definite_result = integrate(expr, (x, limits[0], limits[1]))\n",
    "        steps.append(f\"Step 3: Evaluate from {limits[0]} to {limits[1]}: {pretty(definite_result)}\")\n",
    "    \n",
    "    return steps"
   ]
  },
  {
   "cell_type": "markdown",
   "metadata": {},
   "source": [
    "#### 3. **Integration by Parts (IBP) Function**:\n",
    "This is for when integration by parts is required. It will break down the steps to select \\( u \\) and \\( dv \\), and perform the integration.\n"
   ]
  },
  {
   "cell_type": "code",
   "execution_count": null,
   "metadata": {},
   "outputs": [],
   "source": [
    "def integration_by_parts(expr, limits=None):\n",
    "    \"\"\"\n",
    "    Integration by Parts step-by-step process.\n",
    "    \n",
    "    Args:\n",
    "        expr: SymPy expression to integrate.\n",
    "        limits: Tuple of (lower_limit, upper_limit) for definite integrals.\n",
    "    \n",
    "    Returns:\n",
    "        steps: A list of steps describing the process.\n",
    "    \"\"\"\n",
    "    steps = []\n",
    "\n",
    "    # Step 1: Identify u and dv\n",
    "    steps.append(f\"Step 1: Identify u and dv in the integral: {pretty(expr)}\")\n",
    "    \n",
    "    # For example purposes, we manually set u = x and dv = sin(x)\n",
    "    u = x\n",
    "    dv = expr.diff(x)\n",
    "    \n",
    "    steps.append(f\"Step 2: Set u = {pretty(u)}, dv = {pretty(dv)}\")\n",
    "    \n",
    "    # Step 3: Differentiate u and integrate dv\n",
    "    du = u.diff(x)\n",
    "    v = integrate(dv, x)\n",
    "    \n",
    "    steps.append(f\"Step 3: Differentiate u to get du = {pretty(du)}, and integrate dv to get v = {pretty(v)}\")\n",
    "    \n",
    "    # Step 4: Compute the integral based on parts formula\n",
    "    parts_result = u * v - integrate(v * du, x)\n",
    "    steps.append(f\"Step 4: Apply Integration by Parts: {pretty(parts_result)}\")\n",
    "    \n",
    "    return steps\n"
   ]
  },
  {
   "cell_type": "markdown",
   "metadata": {},
   "source": [
    "#### 4. **Substitution Integration**:\n",
    "Handles integrals that require substitution.\n"
   ]
  },
  {
   "cell_type": "code",
   "execution_count": null,
   "metadata": {},
   "outputs": [],
   "source": [
    "def substitution_integration(expr, limits=None):\n",
    "    \"\"\"\n",
    "    Substitution method step-by-step process.\n",
    "    \n",
    "    Args:\n",
    "        expr: SymPy expression to integrate.\n",
    "        limits: Tuple of (lower_limit, upper_limit) for definite integrals.\n",
    "    \n",
    "    Returns:\n",
    "        steps: A list of steps describing the process.\n",
    "    \"\"\"\n",
    "    steps = []\n",
    "\n",
    "    # Step 1: Identify the substitution to make\n",
    "    steps.append(f\"Step 1: Identify the substitution needed for the integral: {pretty(expr)}\")\n",
    "    \n",
    "    # Step 2: Show the substitution (for example, let u = something)\n",
    "    # This part will depend on the specific function being solved.\n",
    "    # Example: u = x^2\n",
    "    u = x**2\n",
    "    du_dx = u.diff(x)\n",
    "    \n",
    "    steps.append(f\"Step 2: Substitute u = {pretty(u)}, so du/dx = {pretty(du_dx)}\")\n",
    "    \n",
    "    # Step 3: Perform the substitution and integrate\n",
    "    substituted_expr = expr.subs(x, u)\n",
    "    integrated_substitution = integrate(substituted_expr, x)\n",
    "    \n",
    "    steps.append(f\"Step 3: Integrate after substitution: {pretty(integrated_substitution)}\")\n",
    "    \n",
    "    return steps\n"
   ]
  },
  {
   "cell_type": "markdown",
   "metadata": {},
   "source": [
    "---\n",
    "\n",
    "### 5. **Input Handling**:\n",
    "You can set up user input so they can input the function and choose a technique.\n"
   ]
  },
  {
   "cell_type": "code",
   "execution_count": null,
   "metadata": {},
   "outputs": [],
   "source": [
    "def get_user_input():\n",
    "    \"\"\"\n",
    "    Get user input for the integral and technique selection.\n",
    "    \"\"\"\n",
    "    print(\"Enter the function to integrate (use 'x' as the variable): \")\n",
    "    expr_str = input(\"Function: \")\n",
    "    technique = input(\"Choose integration technique (basic, substitution, parts): \")\n",
    "\n",
    "    # Convert string to SymPy expression\n",
    "    expr = sympify(expr_str)\n",
    "    \n",
    "    return expr, technique"
   ]
  },
  {
   "cell_type": "markdown",
   "metadata": {},
   "source": [
    "\n",
    "\n",
    "### 6. **Display Steps**:\n",
    "You can either print the steps to the console or display them in LaTeX using `Jupyter`:\n"
   ]
  },
  {
   "cell_type": "code",
   "execution_count": null,
   "metadata": {},
   "outputs": [],
   "source": [
    "def display_steps(steps):\n",
    "    \"\"\"\n",
    "    Display the steps of the integration.\n",
    "    \"\"\"\n",
    "    for step in steps:\n",
    "        print(step)"
   ]
  },
  {
   "cell_type": "markdown",
   "metadata": {},
   "source": [
    "\n",
    "---\n",
    "\n",
    "### Example Usage:\n"
   ]
  },
  {
   "cell_type": "code",
   "execution_count": null,
   "metadata": {},
   "outputs": [],
   "source": [
    "# Main function to execute the process\n",
    "def main():\n",
    "    expr, technique = get_user_input()\n",
    "    steps = solve_integral(expr, technique)\n",
    "    display_steps(steps)\n",
    "\n",
    "# Example Run\n",
    "main()\n"
   ]
  },
  {
   "cell_type": "markdown",
   "metadata": {},
   "source": [
    "\n",
    "\n",
    "---\n",
    "\n",
    "### Key Features of this Framework:\n",
    "- **Modular**: Each technique is broken into its own function, making it easy to extend.\n",
    "- **Interactive**: User can input the function and choose an integration method.\n",
    "- **Step-by-Step**: Every function returns a list of steps, which can be displayed sequentially.\n",
    "- **Expandable**: You can easily add more techniques (e.g., Trigonometric Substitution) by following the same structure."
   ]
  },
  {
   "cell_type": "code",
   "execution_count": null,
   "metadata": {},
   "outputs": [],
   "source": []
  },
  {
   "cell_type": "code",
   "execution_count": null,
   "metadata": {},
   "outputs": [],
   "source": [
    "def solve_integral(expr, technique='basic', limits=None):\n",
    "    \"\"\"\n",
    "    Main function to solve an integral step-by-step.\n",
    "\n",
    "    Args:\n",
    "        expr: SymPy expression for the function to integrate.\n",
    "        technique: The technique to use ('basic', 'substitution', 'parts', etc.).\n",
    "        limits: Tuple of (lower_limit, upper_limit) for definite integrals.\n",
    "    \n",
    "    Returns:\n",
    "        steps: A list of steps (description + result) to display.\n",
    "    \"\"\"\n",
    "    steps = []\n",
    "    \n",
    "    # Route to the correct integration technique\n",
    "    if technique == 'basic':\n",
    "        steps += basic_integration(expr, limits)\n",
    "    elif technique == 'substitution':\n",
    "        steps += substitution_integration(expr, limits)\n",
    "    elif technique == 'parts':\n",
    "        steps += integration_by_parts(expr, limits)\n",
    "    \n",
    "    return steps"
   ]
  },
  {
   "cell_type": "code",
   "execution_count": null,
   "metadata": {},
   "outputs": [],
   "source": [
    "def basic_integration(expr, limits=None):\n",
    "    \"\"\"\n",
    "    Basic integration step-by-step process.\n",
    "\n",
    "    Args:\n",
    "        expr: SymPy expression to integrate.\n",
    "        limits: Tuple of (lower_limit, upper_limit) for definite integrals.\n",
    "\n",
    "    Returns:\n",
    "        steps: A list of steps describing the process.\n",
    "    \"\"\"\n",
    "    steps = []\n",
    "    \n",
    "    # Step 1: Describe the integral\n",
    "    steps.append(f\"Step 1: Recognize the integral to solve: {pretty(expr)}\")\n",
    "    \n",
    "    # Step 2: Apply the power rule (or basic rules)\n",
    "    integral_result = integrate(expr, x)\n",
    "    steps.append(f\"Step 2: Apply the basic rules of integration: {pretty(integral_result)}\")\n",
    "    \n",
    "    # Step 3: Evaluate definite integrals if limits are given\n",
    "    if limits:\n",
    "        definite_result = integrate(expr, (x, limits[0], limits[1]))\n",
    "        steps.append(f\"Step 3: Evaluate from {limits[0]} to {limits[1]}: {pretty(definite_result)}\")\n",
    "    \n",
    "    return steps\n"
   ]
  },
  {
   "cell_type": "code",
   "execution_count": null,
   "metadata": {},
   "outputs": [],
   "source": [
    "def integration_by_parts(expr, limits=None):\n",
    "    \"\"\"\n",
    "    Integration by Parts step-by-step process.\n",
    "    \n",
    "    Args:\n",
    "        expr: SymPy expression to integrate.\n",
    "        limits: Tuple of (lower_limit, upper_limit) for definite integrals.\n",
    "    \n",
    "    Returns:\n",
    "        steps: A list of steps describing the process.\n",
    "    \"\"\"\n",
    "    steps = []\n",
    "\n",
    "    # Step 1: Identify u and dv\n",
    "    steps.append(f\"Step 1: Identify u and dv in the integral: {pretty(expr)}\")\n",
    "    \n",
    "    # For example purposes, we manually set u = x and dv = sin(x)\n",
    "    u = x\n",
    "    dv = expr.diff(x)\n",
    "    \n",
    "    steps.append(f\"Step 2: Set u = {pretty(u)}, dv = {pretty(dv)}\")\n",
    "    \n",
    "    # Step 3: Differentiate u and integrate dv\n",
    "    du = u.diff(x)\n",
    "    v = integrate(dv, x)\n",
    "    \n",
    "    steps.append(f\"Step 3: Differentiate u to get du = {pretty(du)}, and integrate dv to get v = {pretty(v)}\")\n",
    "    \n",
    "    # Step 4: Compute the integral based on parts formula\n",
    "    parts_result = u * v - integrate(v * du, x)\n",
    "    steps.append(f\"Step 4: Apply Integration by Parts: {pretty(parts_result)}\")\n",
    "    \n",
    "    return steps\n"
   ]
  },
  {
   "cell_type": "code",
   "execution_count": null,
   "metadata": {},
   "outputs": [],
   "source": [
    "def substitution_integration(expr, limits=None):\n",
    "    \"\"\"\n",
    "    Substitution method step-by-step process.\n",
    "    \n",
    "    Args:\n",
    "        expr: SymPy expression to integrate.\n",
    "        limits: Tuple of (lower_limit, upper_limit) for definite integrals.\n",
    "    \n",
    "    Returns:\n",
    "        steps: A list of steps describing the process.\n",
    "    \"\"\"\n",
    "    steps = []\n",
    "\n",
    "    # Step 1: Identify the substitution to make\n",
    "    steps.append(f\"Step 1: Identify the substitution needed for the integral: {pretty(expr)}\")\n",
    "    \n",
    "    # Step 2: Show the substitution (for example, let u = something)\n",
    "    # This part will depend on the specific function being solved.\n",
    "    # Example: u = x^2\n",
    "    u = x**2\n",
    "    du_dx = u.diff(x)\n",
    "    \n",
    "    steps.append(f\"Step 2: Substitute u = {pretty(u)}, so du/dx = {pretty(du_dx)}\")\n",
    "    \n",
    "    # Step 3: Perform the substitution and integrate\n",
    "    substituted_expr = expr.subs(x, u)\n",
    "    integrated_substitution = integrate(substituted_expr, x)\n",
    "    \n",
    "    steps.append(f\"Step 3: Integrate after substitution: {pretty(integrated_substitution)}\")\n",
    "    \n",
    "    return steps\n"
   ]
  },
  {
   "cell_type": "code",
   "execution_count": null,
   "metadata": {},
   "outputs": [],
   "source": [
    "def get_user_input():\n",
    "    \"\"\"\n",
    "    Get user input for the integral and technique selection.\n",
    "    \"\"\"\n",
    "    print(\"Enter the function to integrate (use 'x' as the variable): \")\n",
    "    expr_str = input(\"Function: \")\n",
    "    technique = input(\"Choose integration technique (basic, substitution, parts): \")\n",
    "\n",
    "    # Convert string to SymPy expression\n",
    "    expr = sympify(expr_str)\n",
    "    \n",
    "    return expr, technique\n"
   ]
  },
  {
   "cell_type": "code",
   "execution_count": null,
   "metadata": {},
   "outputs": [],
   "source": [
    "def display_steps(steps):\n",
    "    \"\"\"\n",
    "    Display the steps of the integration.\n",
    "    \"\"\"\n",
    "    for step in steps:\n",
    "        print(step)\n"
   ]
  },
  {
   "cell_type": "code",
   "execution_count": null,
   "metadata": {},
   "outputs": [],
   "source": [
    "# Main function to execute the process\n",
    "def main():\n",
    "    expr, technique = get_user_input()\n",
    "    steps = solve_integral(expr, technique)\n",
    "    display_steps(steps)\n",
    "\n",
    "# Example Run\n",
    "main()\n"
   ]
  },
  {
   "cell_type": "markdown",
   "metadata": {},
   "source": []
  }
 ],
 "metadata": {
  "kernelspec": {
   "display_name": ".venv",
   "language": "python",
   "name": "python3"
  },
  "language_info": {
   "codemirror_mode": {
    "name": "ipython",
    "version": 3
   },
   "file_extension": ".py",
   "mimetype": "text/x-python",
   "name": "python",
   "nbconvert_exporter": "python",
   "pygments_lexer": "ipython3",
   "version": "3.10.12"
  }
 },
 "nbformat": 4,
 "nbformat_minor": 2
}
