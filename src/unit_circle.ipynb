{
 "cells": [
  {
   "cell_type": "markdown",
   "metadata": {},
   "source": [
    "# UNIT CIRCLE / TRIGINOMETRY\n",
    "### 1. **Table of the Unit Circle Values**\n",
    "The unit circle typically includes key angles (in degrees and radians) along with their corresponding sine and cosine values. We’ll create a table of these values.\n",
    "\n",
    "### 2. **Memorization Lists**\n",
    "We’ll list the angles and their sine and cosine values separately to help with memorization.\n",
    "\n",
    "### 3. **Flashcard Game**\n",
    "We’ll create a flashcard game where users are prompted to guess either the sine, cosine, or angle given the other value, and check their answer.\n",
    "\n",
    "---\n",
    "\n",
    "### Step 1: **Create the Unit Circle Table**\n",
    "\n",
    "Let’s first create the core data structure for the unit circle. We’ll use a dictionary or list of tuples to store key angles (both degrees and radians) and their corresponding sine and cosine values.\n"
   ]
  },
  {
   "cell_type": "code",
   "execution_count": 3,
   "metadata": {},
   "outputs": [
    {
     "name": "stdout",
     "output_type": "stream",
     "text": [
      "Degrees    Radians         cos(θ)     sin(θ)    \n",
      "----------------------------------------\n",
      "0          0.00000         1.00000    0.00000   \n",
      "30         0.52360         0.86603    0.50000   \n",
      "45         0.78540         0.70711    0.70711   \n",
      "60         1.04720         0.50000    0.86603   \n",
      "90         1.57080         0.00000    1.00000   \n",
      "120        2.09440         -0.50000   0.86603   \n",
      "135        2.35619         -0.70711   0.70711   \n",
      "150        2.61799         -0.86603   0.50000   \n",
      "180        3.14159         -1.00000   0.00000   \n",
      "210        3.66519         -0.86603   -0.50000  \n",
      "225        3.92699         -0.70711   -0.70711  \n",
      "240        4.18879         -0.50000   -0.86603  \n",
      "270        4.71239         0.00000    -1.00000  \n",
      "300        5.23599         0.50000    -0.86603  \n",
      "315        5.49779         0.70711    -0.70711  \n",
      "330        5.75959         0.86603    -0.50000  \n",
      "360        6.28319         1.00000    0.00000   \n"
     ]
    }
   ],
   "source": [
    "import math\n",
    "from IPython.display import display, Math\n",
    "\n",
    "# Unit circle key points (angle in degrees, angle in radians, (cos, sin))\n",
    "unit_circle = [\n",
    "    (0, 0, (1, 0)),\n",
    "    (30, math.radians(30), (math.sqrt(3)/2, 1/2)),\n",
    "    (45, math.radians(45), (math.sqrt(2)/2, math.sqrt(2)/2)),\n",
    "    (60, math.radians(60), (1/2, math.sqrt(3)/2)),\n",
    "    (90, math.radians(90), (0, 1)),\n",
    "    # Add 120 - 180 degrees\n",
    "    (120, math.radians(120), (-1/2, math.sqrt(3)/2)),\n",
    "    (135, math.radians(135), (-math.sqrt(2)/2, math.sqrt(2)/2)),\n",
    "    (150, math.radians(150), (-math.sqrt(3)/2, 1/2)),\n",
    "    (180, math.radians(180), (-1, 0)),\n",
    "    # Add 210 - 270 degrees\n",
    "    (210, math.radians(210), (-math.sqrt(3)/2, -1/2)),\n",
    "    (225, math.radians(225), (-math.sqrt(2)/2, -math.sqrt(2)/2)),\n",
    "    (240, math.radians(240), (-1/2, -math.sqrt(3)/2)),\n",
    "    (270, math.radians(270), (0, -1)),\n",
    "    # Add 300 - 360 degrees\n",
    "    (300, math.radians(300), (1/2, -math.sqrt(3)/2)),\n",
    "    (315, math.radians(315), (math.sqrt(2)/2, -math.sqrt(2)/2)),\n",
    "    (330, math.radians(330), (math.sqrt(3)/2, -1/2)),\n",
    "    (360, math.radians(360), (1, 0))\n",
    "]\n",
    "\n",
    "def format_value(value):\n",
    "    \"\"\"\n",
    "    Format the value for LaTeX display.\n",
    "    \"\"\"\n",
    "    if value == 0:\n",
    "        return \"0\"\n",
    "    elif value == 1:\n",
    "        return \"1\"\n",
    "    elif value == -1:\n",
    "        return \"-1\"\n",
    "    elif value == 1/2:\n",
    "        return r\"\\frac{1}{2}\"\n",
    "    elif value == -1/2:\n",
    "        return r\"-\\frac{1}{2}\"\n",
    "    elif value == math.sqrt(2)/2:\n",
    "        return r\"\\frac{\\sqrt{2}}{2}\"\n",
    "    elif value == -math.sqrt(2)/2:\n",
    "        return r\"-\\frac{\\sqrt{2}}{2}\"\n",
    "    elif value == math.sqrt(3)/2:\n",
    "        return r\"\\frac{\\sqrt{3}}{2}\"\n",
    "    elif value == -math.sqrt(3)/2:\n",
    "        return r\"-\\frac{\\sqrt{3}}{2}\"\n",
    "    elif value == math.sqrt(3):\n",
    "        return r\"\\sqrt{3}\"\n",
    "    elif value == -math.sqrt(3):\n",
    "        return r\"-\\sqrt{3}\"\n",
    "    elif value == 2:\n",
    "        return \"2\"\n",
    "    elif value == -2:\n",
    "      return \"-2\"\n",
    "    elif value == math.sqrt(3)/3:\n",
    "        return r\"\\frac{\\sqrt{3}}{3}\"\n",
    "    elif value == -math.sqrt(3)/3:\n",
    "        return r\"-\\frac{\\sqrt{3}}{3}\"\n",
    "    elif value == 2*math.sqrt(3)/3:\n",
    "        return r\"\\frac{2\\sqrt{3}}{3}\"\n",
    "    elif value == -2*math.sqrt(3)/3:\n",
    "        return r\"-\\frac{2\\sqrt{3}}{3}\"\n",
    "    else:\n",
    "        return f\"{value:.5f}\"\n",
    "\n",
    "def display_unit_circle():\n",
    "    \"\"\"\n",
    "    Display the unit circle table with degrees, radians, cos, and sin values.\n",
    "    \"\"\"\n",
    "    print(f\"{'Degrees':<10} {'Radians':<15} {'cos(θ)':<10} {'sin(θ)':<10}\")\n",
    "    print(\"-\" * 40)\n",
    "    for degrees, radians, (cos_val, sin_val) in unit_circle:\n",
    "        print(f\"{degrees:<10} {radians:<15.5f} {cos_val:<10.5f} {sin_val:<10.5f}\")\n",
    "\n",
    "# Call the function to display the table\n",
    "display_unit_circle()"
   ]
  },
  {
   "cell_type": "code",
   "execution_count": 5,
   "metadata": {},
   "outputs": [
    {
     "data": {
      "text/latex": [
       "$\\displaystyle \\begin{array}{|c|c|c|c|c|c|c|c|}\\hline\\text{Degrees} & \\text{Radians} & \\cos(\\theta) & \\sin(\\theta) & \\tan(\\theta) & \\cot(\\theta) & \\sec(\\theta) & \\csc(\\theta) \\\\ \\hline0 & 0.00000 & 1 & 0 & 0 & inf & 1 & inf \\\\ \\hline30 & 0.52360 & \\frac{\\sqrt{3}}{2} & \\frac{1}{2} & 0.57735 & \\sqrt{3} & 1.15470 & 2 \\\\ \\hline45 & 0.78540 & \\frac{\\sqrt{2}}{2} & \\frac{\\sqrt{2}}{2} & 1 & 1 & 1.41421 & 1.41421 \\\\ \\hline60 & 1.04720 & \\frac{1}{2} & \\frac{\\sqrt{3}}{2} & \\sqrt{3} & 0.57735 & 2 & 1.15470 \\\\ \\hline90 & 1.57080 & 0 & 1 & inf & 0 & inf & 1 \\\\ \\hline120 & 2.09440 & -\\frac{1}{2} & \\frac{\\sqrt{3}}{2} & -\\sqrt{3} & -0.57735 & -2 & 1.15470 \\\\ \\hline135 & 2.35619 & -\\frac{\\sqrt{2}}{2} & \\frac{\\sqrt{2}}{2} & -1 & -1 & -1.41421 & 1.41421 \\\\ \\hline150 & 2.61799 & -\\frac{\\sqrt{3}}{2} & \\frac{1}{2} & -0.57735 & -\\sqrt{3} & -1.15470 & 2 \\\\ \\hline180 & 3.14159 & -1 & 0 & 0 & inf & -1 & inf \\\\ \\hline210 & 3.66519 & -\\frac{\\sqrt{3}}{2} & -\\frac{1}{2} & 0.57735 & \\sqrt{3} & -1.15470 & -2 \\\\ \\hline225 & 3.92699 & -\\frac{\\sqrt{2}}{2} & -\\frac{\\sqrt{2}}{2} & 1 & 1 & -1.41421 & -1.41421 \\\\ \\hline240 & 4.18879 & -\\frac{1}{2} & -\\frac{\\sqrt{3}}{2} & \\sqrt{3} & 0.57735 & -2 & -1.15470 \\\\ \\hline270 & 4.71239 & 0 & -1 & inf & 0 & inf & -1 \\\\ \\hline300 & 5.23599 & \\frac{1}{2} & -\\frac{\\sqrt{3}}{2} & -\\sqrt{3} & -0.57735 & 2 & -1.15470 \\\\ \\hline315 & 5.49779 & \\frac{\\sqrt{2}}{2} & -\\frac{\\sqrt{2}}{2} & -1 & -1 & 1.41421 & -1.41421 \\\\ \\hline330 & 5.75959 & \\frac{\\sqrt{3}}{2} & -\\frac{1}{2} & -0.57735 & -\\sqrt{3} & 1.15470 & -2 \\\\ \\hline360 & 6.28319 & 1 & 0 & 0 & inf & 1 & inf \\\\ \\hline\\end{array}$"
      ],
      "text/plain": [
       "<IPython.core.display.Math object>"
      ]
     },
     "metadata": {},
     "output_type": "display_data"
    }
   ],
   "source": [
    "def display_unit_circle_latex():\n",
    "    \"\"\"\n",
    "    Display the unit circle table with degrees, radians, cos, sin, tan, cot, sec, and csc values in LaTeX.\n",
    "    \"\"\"\n",
    "    latex_str = r\"\\begin{array}{|c|c|c|c|c|c|c|c|}\\hline\"\n",
    "    latex_str += r\"\\text{Degrees} & \\text{Radians} & \\cos(\\theta) & \\sin(\\theta) & \\tan(\\theta) & \\cot(\\theta) & \\sec(\\theta) & \\csc(\\theta) \\\\ \\hline\"\n",
    "    for degrees, radians, (cos_val, sin_val) in unit_circle:\n",
    "        tan_val = sin_val / cos_val if cos_val != 0 else float('inf')\n",
    "        cot_val = cos_val / sin_val if sin_val != 0 else float('inf')\n",
    "        sec_val = 1 / cos_val if cos_val != 0 else float('inf')\n",
    "        csc_val = 1 / sin_val if sin_val != 0 else float('inf')\n",
    "        \n",
    "        cos_latex = format_value(cos_val)\n",
    "        sin_latex = format_value(sin_val)\n",
    "        tan_latex = format_value(tan_val)\n",
    "        cot_latex = format_value(cot_val)\n",
    "        sec_latex = format_value(sec_val)\n",
    "        csc_latex = format_value(csc_val)\n",
    "        \n",
    "        latex_str += f\"{degrees} & {radians:.5f} & {cos_latex} & {sin_latex} & {tan_latex} & {cot_latex} & {sec_latex} & {csc_latex} \\\\\\\\ \\hline\"\n",
    "    latex_str += r\"\\end{array}\"\n",
    "    display(Math(latex_str))\n",
    "\n",
    "# Call the function to display the table\n",
    "display_unit_circle_latex()"
   ]
  },
  {
   "cell_type": "markdown",
   "metadata": {},
   "source": [
    "### Step 2: **Create Memorization Lists**\n",
    "We can create separate lists to memorize the key angles and their corresponding sine and cosine values."
   ]
  },
  {
   "cell_type": "code",
   "execution_count": 6,
   "metadata": {},
   "outputs": [
    {
     "name": "stdout",
     "output_type": "stream",
     "text": [
      "Memorize these key angles and their corresponding values:\n",
      "Angle: 0° | cos(θ) = 1.000, sin(θ) = 0.000\n",
      "Angle: 30° | cos(θ) = 0.866, sin(θ) = 0.500\n",
      "Angle: 45° | cos(θ) = 0.707, sin(θ) = 0.707\n",
      "Angle: 60° | cos(θ) = 0.500, sin(θ) = 0.866\n",
      "Angle: 90° | cos(θ) = 0.000, sin(θ) = 1.000\n",
      "Angle: 120° | cos(θ) = -0.500, sin(θ) = 0.866\n",
      "Angle: 135° | cos(θ) = -0.707, sin(θ) = 0.707\n",
      "Angle: 150° | cos(θ) = -0.866, sin(θ) = 0.500\n",
      "Angle: 180° | cos(θ) = -1.000, sin(θ) = 0.000\n",
      "Angle: 210° | cos(θ) = -0.866, sin(θ) = -0.500\n",
      "Angle: 225° | cos(θ) = -0.707, sin(θ) = -0.707\n",
      "Angle: 240° | cos(θ) = -0.500, sin(θ) = -0.866\n",
      "Angle: 270° | cos(θ) = 0.000, sin(θ) = -1.000\n",
      "Angle: 300° | cos(θ) = 0.500, sin(θ) = -0.866\n",
      "Angle: 315° | cos(θ) = 0.707, sin(θ) = -0.707\n",
      "Angle: 330° | cos(θ) = 0.866, sin(θ) = -0.500\n",
      "Angle: 360° | cos(θ) = 1.000, sin(θ) = 0.000\n"
     ]
    }
   ],
   "source": [
    "def memorization_lists():\n",
    "    \"\"\"\n",
    "    Display angles with corresponding sine and cosine values for memorization.\n",
    "    \"\"\"\n",
    "    print(\"Memorize these key angles and their corresponding values:\")\n",
    "    for degrees, radians, (cos_val, sin_val) in unit_circle:\n",
    "        print(f\"Angle: {degrees}° | cos(θ) = {cos_val:.3f}, sin(θ) = {sin_val:.3f}\")\n",
    "\n",
    "# Call the function to display the memorization list\n",
    "memorization_lists()"
   ]
  },
  {
   "cell_type": "markdown",
   "metadata": {},
   "source": [
    "### Step 3: **Flashcard Game**\n",
    "Now, we can create a flashcard game where the user is prompted with either an angle or a trigonometric value and asked to guess the corresponding value."
   ]
  },
  {
   "cell_type": "code",
   "execution_count": null,
   "metadata": {},
   "outputs": [],
   "source": [
    "import random\n",
    "\n",
    "def flashcard_game():\n",
    "    \"\"\"\n",
    "    Flashcard game to guess sine or cosine values for unit circle angles.\n",
    "    \"\"\"\n",
    "    score = 0\n",
    "    num_questions = 5  # Number of questions in the game\n",
    "    \n",
    "    for _ in range(num_questions):\n",
    "        # Randomly select an angle from the unit circle\n",
    "        degrees, radians, (cos_val, sin_val) = random.choice(unit_circle)\n",
    "        \n",
    "        # Randomly ask for either sine or cosine\n",
    "        quiz_type = random.choice(['cos', 'sin'])\n",
    "        \n",
    "        if quiz_type == 'cos':\n",
    "            answer = float(input(f\"What is cos({degrees}°)? \"))\n",
    "            if math.isclose(answer, cos_val, rel_tol=1e-2):\n",
    "                print(\"Correct!\")\n",
    "                score += 1\n",
    "            else:\n",
    "                print(f\"Incorrect. The correct value is {cos_val:.3f}.\")\n",
    "        elif quiz_type == 'sin':\n",
    "            answer = float(input(f\"What is sin({degrees}°)? \"))\n",
    "            if math.isclose(answer, sin_val, rel_tol=1e-2):\n",
    "                print(\"Correct!\")\n",
    "                score += 1\n",
    "            else:\n",
    "                print(f\"Incorrect. The correct value is {sin_val:.3f}.\")\n",
    "    \n",
    "    print(f\"Game over! Your score: {score}/{num_questions}\")\n",
    "\n",
    "# Run the flashcard game\n",
    "flashcard_game()"
   ]
  },
  {
   "cell_type": "markdown",
   "metadata": {},
   "source": [
    "\n",
    "### Flashcard Game Flow:\n",
    "1. **Question Generation**: The program randomly selects a key angle from the unit circle.\n",
    "2. **Answer Prompt**: It prompts the user to guess the corresponding sine or cosine value.\n",
    "3. **Feedback**: The program checks the answer and provides immediate feedback, tracking the score.\n",
    "\n",
    "---\n",
    "\n",
    "### Next Steps:\n",
    "- **Expansion of Unit Circle Values**: You can add more angles (like 120°, 135°, etc.) to the `unit_circle` list.\n",
    "- **Visual Representation**: If you want, we can later add a visual tool to display the unit circle graphically.\n",
    "- **More Question Types**: You could ask the user to guess the angle given the sine or cosine value."
   ]
  }
 ],
 "metadata": {
  "kernelspec": {
   "display_name": ".venv",
   "language": "python",
   "name": "python3"
  },
  "language_info": {
   "codemirror_mode": {
    "name": "ipython",
    "version": 3
   },
   "file_extension": ".py",
   "mimetype": "text/x-python",
   "name": "python",
   "nbconvert_exporter": "python",
   "pygments_lexer": "ipython3",
   "version": "3.10.12"
  }
 },
 "nbformat": 4,
 "nbformat_minor": 2
}
